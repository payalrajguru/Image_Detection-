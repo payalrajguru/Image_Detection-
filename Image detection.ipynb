{
 "cells": [
  {
   "cell_type": "code",
   "execution_count": 1,
   "id": "e27b68e9",
   "metadata": {},
   "outputs": [
    {
     "name": "stdout",
     "output_type": "stream",
     "text": [
      "(28, 28, 4)\n",
      "(28, 28)\n"
     ]
    }
   ],
   "source": [
    "import matplotlib.pyplot as plt\n",
    "from matplotlib import image\n",
    "import pandas as pd\n",
    "\n",
    "imageToMatrice = image.imread(r'C:\\Users\\gaura\\OneDrive\\Desktop\\project machine learning\\0\\img_0.png')\n",
    "print(imageToMatrice.shape)\n",
    "print(imageToMatrice[:,:,1].shape)"
   ]
  },
  {
   "cell_type": "code",
   "execution_count": 2,
   "id": "a2b8df56",
   "metadata": {},
   "outputs": [
    {
     "data": {
      "text/plain": [
       "<matplotlib.image.AxesImage at 0x1a1a383fdc0>"
      ]
     },
     "execution_count": 2,
     "metadata": {},
     "output_type": "execute_result"
    },
    {
     "data": {
      "image/png": "[encoded data removed]",
      "text/plain": [
       "<Figure size 432x288 with 1 Axes>"
      ]
     },
     "metadata": {
      "needs_background": "light"
     },
     "output_type": "display_data"
    }
   ],
   "source": [
    "plt.imshow(imageToMatrice[:,:,1]) #considering only 1st index of the image"
   ]
  },
  {
   "cell_type": "code",
   "execution_count": 3,
   "id": "b37eda0f",
   "metadata": {},
   "outputs": [],
   "source": [
    "flat = imageToMatrice[:,:,1].flatten()"
   ]
  },
  {
   "cell_type": "code",
   "execution_count": 4,
   "id": "c0b7a5e0",
   "metadata": {},
   "outputs": [
    {
     "data": {
      "text/plain": [
       "array([0.00392157, 0.00392157, 0.00392157, 0.00392157, 0.00392157,\n",
       "       0.00392157, 0.00392157, 0.00392157, 0.00392157, 0.00392157,\n",
       "       0.00392157, 0.00392157, 0.00392157, 0.00392157, 0.00392157,\n",
       "       0.00392157, 0.00392157, 0.00392157, 0.00392157, 0.00392157,\n",
       "       0.00392157, 0.00392157, 0.00392157, 0.00392157, 0.00392157,\n",
       "       0.00392157, 0.00392157, 0.00392157, 0.00392157, 0.00392157,\n",
       "       0.00392157, 0.00392157, 0.00392157, 0.00392157, 0.00392157,\n",
       "       0.00392157, 0.00392157, 0.00392157, 0.00392157, 0.00392157,\n",
       "       0.00392157, 0.00392157, 0.00392157, 0.00392157, 0.00392157,\n",
       "       0.00392157, 0.00392157, 0.00392157, 0.00392157, 0.00392157,\n",
       "       0.00392157, 0.00392157, 0.00392157, 0.00392157, 0.00392157,\n",
       "       0.00392157, 0.00392157, 0.00392157, 0.00392157, 0.00392157,\n",
       "       0.00392157, 0.00392157, 0.00392157, 0.00392157, 0.00392157,\n",
       "       0.00392157, 0.00392157, 0.00392157, 0.00392157, 0.00392157,\n",
       "       0.00392157, 0.00392157, 0.00392157, 0.00392157, 0.00392157,\n",
       "       0.00392157, 0.00392157, 0.00392157, 0.00392157, 0.00392157,\n",
       "       0.00392157, 0.00392157, 0.00392157, 0.00392157, 0.00392157,\n",
       "       0.00392157, 0.00392157, 0.00392157, 0.00392157, 0.00392157,\n",
       "       0.00392157, 0.00392157, 0.00392157, 0.00392157, 0.00392157,\n",
       "       0.00392157, 0.00392157, 0.00392157, 0.00392157, 0.00392157,\n",
       "       0.00392157, 0.00392157, 0.00392157, 0.00392157, 0.00392157,\n",
       "       0.00392157, 0.00392157, 0.00392157, 0.00392157, 0.00392157,\n",
       "       0.00392157, 0.00392157, 0.00392157, 0.00392157, 0.00392157,\n",
       "       0.00392157, 0.00392157, 0.00392157, 0.00392157, 0.00392157,\n",
       "       0.00392157, 0.00392157, 0.10196079, 0.16470589, 0.6       ,\n",
       "       0.6       , 0.7882353 , 0.40784314, 0.3529412 , 0.00784314,\n",
       "       0.00392157, 0.00392157, 0.00392157, 0.00392157, 0.00392157,\n",
       "       0.00392157, 0.00392157, 0.00392157, 0.00392157, 0.00392157,\n",
       "       0.00392157, 0.00392157, 0.00392157, 0.00392157, 0.00392157,\n",
       "       0.00392157, 0.00392157, 0.00392157, 0.07843138, 0.40784314,\n",
       "       0.8980392 , 0.9019608 , 0.9019608 , 0.9019608 , 0.9019608 ,\n",
       "       0.84705883, 0.89411765, 0.6509804 , 0.17254902, 0.00392157,\n",
       "       0.00392157, 0.00392157, 0.00392157, 0.00392157, 0.00392157,\n",
       "       0.00392157, 0.00392157, 0.00392157, 0.00392157, 0.00392157,\n",
       "       0.00392157, 0.00392157, 0.00392157, 0.00392157, 0.00392157,\n",
       "       0.09411765, 0.74509805, 0.9019608 , 0.9019608 , 0.9019608 ,\n",
       "       0.9019608 , 0.9019608 , 0.9019608 , 0.9019608 , 0.9019608 ,\n",
       "       0.9019608 , 0.8745098 , 0.2784314 , 0.08627451, 0.00392157,\n",
       "       0.00392157, 0.00392157, 0.00392157, 0.00392157, 0.00392157,\n",
       "       0.00392157, 0.00392157, 0.00392157, 0.00392157, 0.00392157,\n",
       "       0.00392157, 0.00392157, 0.00392157, 0.3529412 , 0.9019608 ,\n",
       "       0.9019608 , 0.9019608 , 0.9019608 , 0.9019608 , 0.9019608 ,\n",
       "       0.9019608 , 0.9019608 , 0.9019608 , 0.9019608 , 0.9019608 ,\n",
       "       0.9019608 , 0.47843137, 0.00392157, 0.00392157, 0.00392157,\n",
       "       0.00392157, 0.00392157, 0.00392157, 0.00392157, 0.00392157,\n",
       "       0.00392157, 0.00392157, 0.00392157, 0.00392157, 0.00392157,\n",
       "       0.30588236, 0.78431374, 0.9019608 , 0.9019608 , 0.9019608 ,\n",
       "       0.9019608 , 0.9019608 , 0.49411765, 0.39607844, 0.80784315,\n",
       "       0.9019608 , 0.9019608 , 0.9019608 , 0.9019608 , 0.8901961 ,\n",
       "       0.40392157, 0.00392157, 0.00392157, 0.00392157, 0.00392157,\n",
       "       0.00392157, 0.00392157, 0.00392157, 0.00392157, 0.00392157,\n",
       "       0.00392157, 0.00392157, 0.00392157, 0.7254902 , 0.9019608 ,\n",
       "       0.9019608 , 0.9019608 , 0.8156863 , 0.63529414, 0.63529414,\n",
       "       0.23529412, 0.00392157, 0.06666667, 0.15686275, 0.80784315,\n",
       "       0.9019608 , 0.9019608 , 0.9019608 , 0.72156864, 0.00392157,\n",
       "       0.00392157, 0.00392157, 0.00392157, 0.00392157, 0.00392157,\n",
       "       0.00392157, 0.00392157, 0.00392157, 0.00392157, 0.00392157,\n",
       "       0.00784314, 0.7294118 , 0.9019608 , 0.9019608 , 0.41960785,\n",
       "       0.33333334, 0.00392157, 0.00392157, 0.00392157, 0.00392157,\n",
       "       0.00392157, 0.00392157, 0.5647059 , 0.9019608 , 0.9019608 ,\n",
       "       0.9019608 , 0.8392157 , 0.36862746, 0.00392157, 0.00392157,\n",
       "       0.00392157, 0.00392157, 0.00392157, 0.00392157, 0.00392157,\n",
       "       0.00392157, 0.00392157, 0.00392157, 0.24313726, 0.9019608 ,\n",
       "       0.9019608 , 0.9019608 , 0.15686275, 0.00392157, 0.00392157,\n",
       "       0.00392157, 0.00392157, 0.00392157, 0.00392157, 0.00392157,\n",
       "       0.00392157, 0.39607844, 0.9019608 , 0.9019608 , 0.9019608 ,\n",
       "       0.654902  , 0.00392157, 0.00392157, 0.00392157, 0.00392157,\n",
       "       0.00392157, 0.00392157, 0.00392157, 0.00392157, 0.00392157,\n",
       "       0.00392157, 0.38431373, 0.9019608 , 0.9019608 , 0.8862745 ,\n",
       "       0.13333334, 0.00392157, 0.00392157, 0.00392157, 0.00392157,\n",
       "       0.00392157, 0.00392157, 0.00392157, 0.00392157, 0.13725491,\n",
       "       0.8862745 , 0.9019608 , 0.9019608 , 0.654902  , 0.00392157,\n",
       "       0.00392157, 0.00392157, 0.00392157, 0.00392157, 0.00392157,\n",
       "       0.00392157, 0.00392157, 0.00392157, 0.00392157, 0.32156864,\n",
       "       0.9019608 , 0.9019608 , 0.76862746, 0.04313726, 0.00392157,\n",
       "       0.00392157, 0.00392157, 0.00392157, 0.00392157, 0.00392157,\n",
       "       0.00392157, 0.00392157, 0.00392157, 0.7019608 , 0.9019608 ,\n",
       "       0.9019608 , 0.8627451 , 0.07058824, 0.00392157, 0.00392157,\n",
       "       0.00392157, 0.00392157, 0.00392157, 0.00392157, 0.00392157,\n",
       "       0.00392157, 0.08235294, 0.8745098 , 0.9019608 , 0.9019608 ,\n",
       "       0.9019608 , 0.15686275, 0.00392157, 0.00392157, 0.00392157,\n",
       "       0.00392157, 0.00392157, 0.00392157, 0.00392157, 0.00392157,\n",
       "       0.00392157, 0.3647059 , 0.9019608 , 0.9019608 , 0.9019608 ,\n",
       "       0.09803922, 0.00392157, 0.00392157, 0.00392157, 0.00392157,\n",
       "       0.00392157, 0.00392157, 0.00392157, 0.00392157, 0.10196079,\n",
       "       0.9019608 , 0.9019608 , 0.9019608 , 0.9019608 , 0.15686275,\n",
       "       0.00392157, 0.00392157, 0.00392157, 0.00392157, 0.00392157,\n",
       "       0.00392157, 0.00392157, 0.00392157, 0.00392157, 0.2509804 ,\n",
       "       0.9019608 , 0.9019608 , 0.9019608 , 0.09803922, 0.00392157,\n",
       "       0.00392157, 0.00392157, 0.00392157, 0.00392157, 0.00392157,\n",
       "       0.00392157, 0.00392157, 0.01176471, 0.69411767, 0.9019608 ,\n",
       "       0.9019608 , 0.9019608 , 0.15686275, 0.00392157, 0.00392157,\n",
       "       0.00392157, 0.00392157, 0.00392157, 0.00392157, 0.00392157,\n",
       "       0.00392157, 0.00392157, 0.2509804 , 0.9019608 , 0.9019608 ,\n",
       "       0.9019608 , 0.09803922, 0.00392157, 0.00392157, 0.00392157,\n",
       "       0.00392157, 0.00392157, 0.00392157, 0.00392157, 0.00392157,\n",
       "       0.00392157, 0.4392157 , 0.9019608 , 0.9019608 , 0.9019608 ,\n",
       "       0.80784315, 0.07058824, 0.00392157, 0.00392157, 0.00392157,\n",
       "       0.00392157, 0.00392157, 0.00392157, 0.00392157, 0.09411765,\n",
       "       0.83137256, 0.9019608 , 0.9019608 , 0.64705884, 0.00784314,\n",
       "       0.00392157, 0.00392157, 0.00392157, 0.00392157, 0.00392157,\n",
       "       0.00392157, 0.00392157, 0.00392157, 0.00392157, 0.08627451,\n",
       "       0.8235294 , 0.9019608 , 0.9019608 , 0.9019608 , 0.8156863 ,\n",
       "       0.32941177, 0.00392157, 0.00392157, 0.00392157, 0.00392157,\n",
       "       0.00392157, 0.11764706, 0.6862745 , 0.9019608 , 0.9019608 ,\n",
       "       0.8901961 , 0.16862746, 0.00392157, 0.00392157, 0.00392157,\n",
       "       0.00392157, 0.00392157, 0.00392157, 0.00392157, 0.00392157,\n",
       "       0.00392157, 0.00392157, 0.00392157, 0.3019608 , 0.8392157 ,\n",
       "       0.9019608 , 0.9019608 , 0.9019608 , 0.7921569 , 0.2509804 ,\n",
       "       0.2509804 , 0.18431373, 0.21568628, 0.2509804 , 0.83137256,\n",
       "       0.9019608 , 0.9019608 , 0.9019608 , 0.72156864, 0.00392157,\n",
       "       0.00392157, 0.00392157, 0.00392157, 0.00392157, 0.00392157,\n",
       "       0.00392157, 0.00392157, 0.00392157, 0.00392157, 0.00392157,\n",
       "       0.00392157, 0.00392157, 0.40784314, 0.8901961 , 0.9019608 ,\n",
       "       0.9019608 , 0.9019608 , 0.9019608 , 0.9019608 , 0.8745098 ,\n",
       "       0.8901961 , 0.9019608 , 0.9019608 , 0.9019608 , 0.9019608 ,\n",
       "       0.9019608 , 0.40784314, 0.00392157, 0.00392157, 0.00392157,\n",
       "       0.00392157, 0.00392157, 0.00392157, 0.00392157, 0.00392157,\n",
       "       0.00392157, 0.00392157, 0.00392157, 0.00392157, 0.00392157,\n",
       "       0.00392157, 0.5137255 , 0.9019608 , 0.9019608 , 0.9019608 ,\n",
       "       0.9019608 , 0.9019608 , 0.9019608 , 0.9019608 , 0.9019608 ,\n",
       "       0.9019608 , 0.9019608 , 0.88235295, 0.40784314, 0.06666667,\n",
       "       0.00392157, 0.00392157, 0.00392157, 0.00392157, 0.00392157,\n",
       "       0.00392157, 0.00392157, 0.00392157, 0.00392157, 0.00392157,\n",
       "       0.00392157, 0.00392157, 0.00392157, 0.00392157, 0.07843138,\n",
       "       0.75686276, 0.9019608 , 0.9019608 , 0.9019608 , 0.9019608 ,\n",
       "       0.9019608 , 0.9019608 , 0.9019608 , 0.9019608 , 0.8901961 ,\n",
       "       0.34509805, 0.00392157, 0.00392157, 0.00392157, 0.00392157,\n",
       "       0.00392157, 0.00392157, 0.00392157, 0.00392157, 0.00392157,\n",
       "       0.00392157, 0.00392157, 0.00392157, 0.00392157, 0.00392157,\n",
       "       0.00392157, 0.00392157, 0.00392157, 0.04705882, 0.36862746,\n",
       "       0.6313726 , 0.9019608 , 0.90588236, 0.9019608 , 0.90588236,\n",
       "       0.6313726 , 0.10980392, 0.08627451, 0.00392157, 0.00392157,\n",
       "       0.00392157, 0.00392157, 0.00392157, 0.00392157, 0.00392157,\n",
       "       0.00392157, 0.00392157, 0.00392157, 0.00392157, 0.00392157,\n",
       "       0.00392157, 0.00392157, 0.00392157, 0.00392157, 0.00392157,\n",
       "       0.00392157, 0.00392157, 0.00392157, 0.00392157, 0.00392157,\n",
       "       0.00392157, 0.00392157, 0.00392157, 0.00392157, 0.00392157,\n",
       "       0.00392157, 0.00392157, 0.00392157, 0.00392157, 0.00392157,\n",
       "       0.00392157, 0.00392157, 0.00392157, 0.00392157, 0.00392157,\n",
       "       0.00392157, 0.00392157, 0.00392157, 0.00392157, 0.00392157,\n",
       "       0.00392157, 0.00392157, 0.00392157, 0.00392157, 0.00392157,\n",
       "       0.00392157, 0.00392157, 0.00392157, 0.00392157, 0.00392157,\n",
       "       0.00392157, 0.00392157, 0.00392157, 0.00392157, 0.00392157,\n",
       "       0.00392157, 0.00392157, 0.00392157, 0.00392157, 0.00392157,\n",
       "       0.00392157, 0.00392157, 0.00392157, 0.00392157, 0.00392157,\n",
       "       0.00392157, 0.00392157, 0.00392157, 0.00392157, 0.00392157,\n",
       "       0.00392157, 0.00392157, 0.00392157, 0.00392157, 0.00392157,\n",
       "       0.00392157, 0.00392157, 0.00392157, 0.00392157, 0.00392157,\n",
       "       0.00392157, 0.00392157, 0.00392157, 0.00392157, 0.00392157,\n",
       "       0.00392157, 0.00392157, 0.00392157, 0.00392157, 0.00392157,\n",
       "       0.00392157, 0.00392157, 0.00392157, 0.00392157, 0.00392157,\n",
       "       0.00392157, 0.00392157, 0.00392157, 0.00392157, 0.00392157,\n",
       "       0.00392157, 0.00392157, 0.00392157, 0.00392157, 0.00392157,\n",
       "       0.00392157, 0.00392157, 0.00392157, 0.00392157, 0.00392157,\n",
       "       0.00392157, 0.00392157, 0.00392157, 0.00392157, 0.00392157,\n",
       "       0.00392157, 0.00392157, 0.00392157, 0.00392157], dtype=float32)"
      ]
     },
     "execution_count": 4,
     "metadata": {},
     "output_type": "execute_result"
    }
   ],
   "source": [
    "flat"
   ]
  },
  {
   "cell_type": "code",
   "execution_count": 5,
   "id": "dd03b756",
   "metadata": {},
   "outputs": [],
   "source": [
    "images = pd.DataFrame(flat)"
   ]
  },
  {
   "cell_type": "code",
   "execution_count": null,
   "id": "283235e0",
   "metadata": {},
   "outputs": [],
   "source": []
  },
  {
   "cell_type": "code",
   "execution_count": 7,
   "id": "34f0263c",
   "metadata": {},
   "outputs": [],
   "source": [
    "import matplotlib.pyplot as plt\n",
    "from matplotlib import image\n",
    "import pandas as pd\n",
    "\n",
    "dataframe  = []\n",
    "\n",
    "for i in range(4132):\n",
    "    imageToMatrice = image.imread(r'C:\\Users\\gaura\\OneDrive\\Desktop\\project machine learning\\0\\img_'+str(i)+'.png')\n",
    "    flat = imageToMatrice[:,:,1].flatten()\n",
    "    dataframe.append(flat)"
   ]
  },
  {
   "cell_type": "code",
   "execution_count": 8,
   "id": "b79e0250",
   "metadata": {},
   "outputs": [],
   "source": [
    "images0 = pd.DataFrame(dataframe)"
   ]
  },
  {
   "cell_type": "code",
   "execution_count": 9,
   "id": "a54d377a",
   "metadata": {},
   "outputs": [],
   "source": [
    "zero = []\n",
    "\n",
    "for i in range(4132):\n",
    "    zero.append('0')\n",
    "    \n",
    "images0['labels'] = zero    "
   ]
  },
  {
   "cell_type": "code",
   "execution_count": 10,
   "id": "b56fc3b5",
   "metadata": {},
   "outputs": [],
   "source": [
    "import matplotlib.pyplot as plt\n",
    "from matplotlib import image\n",
    "import pandas as pd\n",
    "\n",
    "dataframe  = []\n",
    "\n",
    "for i in range(4683):\n",
    "    imageToMatrice = image.imread(r'C:\\Users\\gaura\\OneDrive\\Desktop\\project machine learning\\1\\img_'+str(i)+'.png')\n",
    "    flat = imageToMatrice[:,:,1].flatten()\n",
    "    dataframe.append(flat)\n",
    "    "
   ]
  },
  {
   "cell_type": "code",
   "execution_count": 11,
   "id": "2ef3a306",
   "metadata": {},
   "outputs": [],
   "source": [
    "images1 = pd.DataFrame(dataframe)"
   ]
  },
  {
   "cell_type": "code",
   "execution_count": 12,
   "id": "c985a5d9",
   "metadata": {},
   "outputs": [],
   "source": [
    "one = []\n",
    "\n",
    "for i in range(4683):\n",
    "    one.append('1')\n",
    "    \n",
    "images1['labels'] = one    "
   ]
  },
  {
   "cell_type": "code",
   "execution_count": 13,
   "id": "525193f1",
   "metadata": {},
   "outputs": [],
   "source": [
    "import matplotlib.pyplot as plt\n",
    "from matplotlib import image\n",
    "import pandas as pd\n",
    "\n",
    "dataframe  = []\n",
    "\n",
    "for i in range(4176):\n",
    "    imageToMatrice = image.imread(r'C:\\Users\\gaura\\OneDrive\\Desktop\\project machine learning\\2\\img_'+str(i)+'.png')\n",
    "    flat = imageToMatrice[:,:,1].flatten()\n",
    "    dataframe.append(flat)\n",
    "    \n",
    "images2 = pd.DataFrame(dataframe)    \n",
    "\n",
    "\n",
    "two = []\n",
    "\n",
    "for i in range(4176):\n",
    "    two.append('2')\n",
    "    \n",
    "images2['labels'] = two    "
   ]
  },
  {
   "cell_type": "code",
   "execution_count": 14,
   "id": "e0a4066e",
   "metadata": {},
   "outputs": [],
   "source": [
    "import matplotlib.pyplot as plt\n",
    "from matplotlib import image\n",
    "import pandas as pd\n",
    "\n",
    "dataframe  = []\n",
    "\n",
    "for i in range(4350):\n",
    "    imageToMatrice = image.imread(r'C:\\Users\\gaura\\OneDrive\\Desktop\\project machine learning\\3\\img_'+str(i)+'.png')\n",
    "    flat = imageToMatrice[:,:,1].flatten()\n",
    "    dataframe.append(flat)\n",
    "    \n",
    "images3 = pd.DataFrame(dataframe)    \n",
    "\n",
    "\n",
    "three = []\n",
    "\n",
    "for i in range(4350):\n",
    "    three.append('3')\n",
    "    \n",
    "images3['labels'] = three    "
   ]
  },
  {
   "cell_type": "code",
   "execution_count": 15,
   "id": "b66659a6",
   "metadata": {},
   "outputs": [],
   "source": [
    "import matplotlib.pyplot as plt\n",
    "from matplotlib import image\n",
    "import pandas as pd\n",
    "\n",
    "dataframe  = []\n",
    "\n",
    "for i in range(4071):\n",
    "    imageToMatrice = image.imread(r'C:\\Users\\gaura\\OneDrive\\Desktop\\project machine learning\\4\\img_'+str(i)+'.png')\n",
    "    flat = imageToMatrice[:,:,1].flatten()\n",
    "    dataframe.append(flat)\n",
    "    \n",
    "images4 = pd.DataFrame(dataframe)    \n",
    "\n",
    "\n",
    "four = []\n",
    "\n",
    "for i in range(4071):\n",
    "    four.append('4')\n",
    "    \n",
    "images4['labels'] = four    "
   ]
  },
  {
   "cell_type": "code",
   "execution_count": 16,
   "id": "81f4a74f",
   "metadata": {},
   "outputs": [],
   "source": [
    "import matplotlib.pyplot as plt\n",
    "from matplotlib import image\n",
    "import pandas as pd\n",
    "\n",
    "dataframe  = []\n",
    "\n",
    "for i in range(3794):\n",
    "    imageToMatrice = image.imread(r'C:\\Users\\gaura\\OneDrive\\Desktop\\project machine learning\\5\\img_'+str(i)+'.png')\n",
    "    flat = imageToMatrice[:,:,1].flatten()\n",
    "    dataframe.append(flat)\n",
    "    \n",
    "images5 = pd.DataFrame(dataframe)    \n",
    "\n",
    "\n",
    "five = []\n",
    "\n",
    "for i in range(3794):\n",
    "    five.append('5')\n",
    "    \n",
    "images5['labels'] = five   "
   ]
  },
  {
   "cell_type": "code",
   "execution_count": 17,
   "id": "e4ba6ed8",
   "metadata": {},
   "outputs": [],
   "source": [
    "import matplotlib.pyplot as plt\n",
    "from matplotlib import image\n",
    "import pandas as pd\n",
    "\n",
    "dataframe  = []\n",
    "\n",
    "for i in range(4136):\n",
    "    imageToMatrice = image.imread(r'C:\\Users\\gaura\\OneDrive\\Desktop\\project machine learning\\6\\img_'+str(i)+'.png')\n",
    "    flat = imageToMatrice[:,:,1].flatten()\n",
    "    dataframe.append(flat)\n",
    "    \n",
    "images6 = pd.DataFrame(dataframe)    \n",
    "\n",
    "\n",
    "six = []\n",
    "\n",
    "for i in range(4136):\n",
    "    six.append('6')\n",
    "    \n",
    "images6['labels'] = six    "
   ]
  },
  {
   "cell_type": "code",
   "execution_count": 18,
   "id": "8c1432e2",
   "metadata": {},
   "outputs": [],
   "source": [
    "import matplotlib.pyplot as plt\n",
    "from matplotlib import image\n",
    "import pandas as pd\n",
    "\n",
    "dataframe  = []\n",
    "\n",
    "for i in range(4400):\n",
    "    imageToMatrice = image.imread(r'C:\\Users\\gaura\\OneDrive\\Desktop\\project machine learning\\7\\img_'+str(i)+'.png')\n",
    "    flat = imageToMatrice[:,:,1].flatten()\n",
    "    dataframe.append(flat)\n",
    "    \n",
    "images7 = pd.DataFrame(dataframe)    \n",
    "\n",
    "\n",
    "seven = []\n",
    "\n",
    "for i in range(4400):\n",
    "    seven.append('7')\n",
    "    \n",
    "images7['labels'] = seven    "
   ]
  },
  {
   "cell_type": "code",
   "execution_count": 19,
   "id": "9affe544",
   "metadata": {},
   "outputs": [],
   "source": [
    "import matplotlib.pyplot as plt\n",
    "from matplotlib import image\n",
    "import pandas as pd\n",
    "\n",
    "dataframe  = []\n",
    "\n",
    "for i in range(4062):\n",
    "    imageToMatrice = image.imread(r'C:\\Users\\gaura\\OneDrive\\Desktop\\project machine learning\\8\\img_'+str(i)+'.png')\n",
    "    flat = imageToMatrice[:,:,1].flatten()\n",
    "    dataframe.append(flat)\n",
    "    \n",
    "images8 = pd.DataFrame(dataframe)    \n",
    "\n",
    "\n",
    "eight = []\n",
    "\n",
    "for i in range(4062):\n",
    "    eight.append('8')\n",
    "    \n",
    "images8['labels'] = eight   "
   ]
  },
  {
   "cell_type": "code",
   "execution_count": 20,
   "id": "45963bcf",
   "metadata": {},
   "outputs": [],
   "source": [
    "import matplotlib.pyplot as plt\n",
    "from matplotlib import image\n",
    "import pandas as pd\n",
    "\n",
    "dataframe  = []\n",
    "\n",
    "for i in range(4187):\n",
    "    imageToMatrice = image.imread(r'C:\\Users\\gaura\\OneDrive\\Desktop\\project machine learning\\9\\img_'+str(i)+'.png')\n",
    "    flat = imageToMatrice[:,:,1].flatten()\n",
    "    dataframe.append(flat)\n",
    "    \n",
    "images9 = pd.DataFrame(dataframe)    \n",
    "\n",
    "\n",
    "nine = []\n",
    "\n",
    "for i in range(4187):\n",
    "    nine.append('9')\n",
    "    \n",
    "images9['labels'] = nine   "
   ]
  },
  {
   "cell_type": "code",
   "execution_count": 21,
   "id": "f616c3bd",
   "metadata": {},
   "outputs": [
    {
     "data": {
      "text/html": [
       "<div>\n",
       "<style scoped>\n",
       "    .dataframe tbody tr th:only-of-type {\n",
       "        vertical-align: middle;\n",
       "    }\n",
       "\n",
       "    .dataframe tbody tr th {\n",
       "        vertical-align: top;\n",
       "    }\n",
       "\n",
       "    .dataframe thead th {\n",
       "        text-align: right;\n",
       "    }\n",
       "</style>\n",
       "<table border=\"1\" class=\"dataframe\">\n",
       "  <thead>\n",
       "    <tr style=\"text-align: right;\">\n",
       "      <th></th>\n",
       "      <th>0</th>\n",
       "      <th>1</th>\n",
       "      <th>2</th>\n",
       "      <th>3</th>\n",
       "      <th>4</th>\n",
       "      <th>5</th>\n",
       "      <th>6</th>\n",
       "      <th>7</th>\n",
       "      <th>8</th>\n",
       "      <th>9</th>\n",
       "      <th>...</th>\n",
       "      <th>775</th>\n",
       "      <th>776</th>\n",
       "      <th>777</th>\n",
       "      <th>778</th>\n",
       "      <th>779</th>\n",
       "      <th>780</th>\n",
       "      <th>781</th>\n",
       "      <th>782</th>\n",
       "      <th>783</th>\n",
       "      <th>labels</th>\n",
       "    </tr>\n",
       "  </thead>\n",
       "  <tbody>\n",
       "    <tr>\n",
       "      <th>0</th>\n",
       "      <td>0.003922</td>\n",
       "      <td>0.003922</td>\n",
       "      <td>0.003922</td>\n",
       "      <td>0.003922</td>\n",
       "      <td>0.003922</td>\n",
       "      <td>0.003922</td>\n",
       "      <td>0.003922</td>\n",
       "      <td>0.003922</td>\n",
       "      <td>0.003922</td>\n",
       "      <td>0.003922</td>\n",
       "      <td>...</td>\n",
       "      <td>0.003922</td>\n",
       "      <td>0.003922</td>\n",
       "      <td>0.003922</td>\n",
       "      <td>0.003922</td>\n",
       "      <td>0.003922</td>\n",
       "      <td>0.003922</td>\n",
       "      <td>0.003922</td>\n",
       "      <td>0.003922</td>\n",
       "      <td>0.003922</td>\n",
       "      <td>7</td>\n",
       "    </tr>\n",
       "    <tr>\n",
       "      <th>1</th>\n",
       "      <td>0.003922</td>\n",
       "      <td>0.003922</td>\n",
       "      <td>0.003922</td>\n",
       "      <td>0.003922</td>\n",
       "      <td>0.003922</td>\n",
       "      <td>0.003922</td>\n",
       "      <td>0.003922</td>\n",
       "      <td>0.003922</td>\n",
       "      <td>0.003922</td>\n",
       "      <td>0.003922</td>\n",
       "      <td>...</td>\n",
       "      <td>0.003922</td>\n",
       "      <td>0.003922</td>\n",
       "      <td>0.003922</td>\n",
       "      <td>0.003922</td>\n",
       "      <td>0.003922</td>\n",
       "      <td>0.003922</td>\n",
       "      <td>0.003922</td>\n",
       "      <td>0.003922</td>\n",
       "      <td>0.003922</td>\n",
       "      <td>7</td>\n",
       "    </tr>\n",
       "    <tr>\n",
       "      <th>2</th>\n",
       "      <td>0.003922</td>\n",
       "      <td>0.003922</td>\n",
       "      <td>0.003922</td>\n",
       "      <td>0.003922</td>\n",
       "      <td>0.003922</td>\n",
       "      <td>0.003922</td>\n",
       "      <td>0.003922</td>\n",
       "      <td>0.003922</td>\n",
       "      <td>0.003922</td>\n",
       "      <td>0.003922</td>\n",
       "      <td>...</td>\n",
       "      <td>0.003922</td>\n",
       "      <td>0.003922</td>\n",
       "      <td>0.003922</td>\n",
       "      <td>0.003922</td>\n",
       "      <td>0.003922</td>\n",
       "      <td>0.003922</td>\n",
       "      <td>0.003922</td>\n",
       "      <td>0.003922</td>\n",
       "      <td>0.003922</td>\n",
       "      <td>7</td>\n",
       "    </tr>\n",
       "    <tr>\n",
       "      <th>3</th>\n",
       "      <td>0.003922</td>\n",
       "      <td>0.003922</td>\n",
       "      <td>0.003922</td>\n",
       "      <td>0.003922</td>\n",
       "      <td>0.003922</td>\n",
       "      <td>0.003922</td>\n",
       "      <td>0.003922</td>\n",
       "      <td>0.003922</td>\n",
       "      <td>0.003922</td>\n",
       "      <td>0.003922</td>\n",
       "      <td>...</td>\n",
       "      <td>0.003922</td>\n",
       "      <td>0.003922</td>\n",
       "      <td>0.003922</td>\n",
       "      <td>0.003922</td>\n",
       "      <td>0.003922</td>\n",
       "      <td>0.003922</td>\n",
       "      <td>0.003922</td>\n",
       "      <td>0.003922</td>\n",
       "      <td>0.003922</td>\n",
       "      <td>7</td>\n",
       "    </tr>\n",
       "    <tr>\n",
       "      <th>4</th>\n",
       "      <td>0.003922</td>\n",
       "      <td>0.003922</td>\n",
       "      <td>0.003922</td>\n",
       "      <td>0.003922</td>\n",
       "      <td>0.003922</td>\n",
       "      <td>0.003922</td>\n",
       "      <td>0.003922</td>\n",
       "      <td>0.003922</td>\n",
       "      <td>0.003922</td>\n",
       "      <td>0.003922</td>\n",
       "      <td>...</td>\n",
       "      <td>0.003922</td>\n",
       "      <td>0.003922</td>\n",
       "      <td>0.003922</td>\n",
       "      <td>0.003922</td>\n",
       "      <td>0.003922</td>\n",
       "      <td>0.003922</td>\n",
       "      <td>0.003922</td>\n",
       "      <td>0.003922</td>\n",
       "      <td>0.003922</td>\n",
       "      <td>7</td>\n",
       "    </tr>\n",
       "    <tr>\n",
       "      <th>...</th>\n",
       "      <td>...</td>\n",
       "      <td>...</td>\n",
       "      <td>...</td>\n",
       "      <td>...</td>\n",
       "      <td>...</td>\n",
       "      <td>...</td>\n",
       "      <td>...</td>\n",
       "      <td>...</td>\n",
       "      <td>...</td>\n",
       "      <td>...</td>\n",
       "      <td>...</td>\n",
       "      <td>...</td>\n",
       "      <td>...</td>\n",
       "      <td>...</td>\n",
       "      <td>...</td>\n",
       "      <td>...</td>\n",
       "      <td>...</td>\n",
       "      <td>...</td>\n",
       "      <td>...</td>\n",
       "      <td>...</td>\n",
       "      <td>...</td>\n",
       "    </tr>\n",
       "    <tr>\n",
       "      <th>4395</th>\n",
       "      <td>0.003922</td>\n",
       "      <td>0.003922</td>\n",
       "      <td>0.003922</td>\n",
       "      <td>0.003922</td>\n",
       "      <td>0.003922</td>\n",
       "      <td>0.003922</td>\n",
       "      <td>0.003922</td>\n",
       "      <td>0.003922</td>\n",
       "      <td>0.003922</td>\n",
       "      <td>0.003922</td>\n",
       "      <td>...</td>\n",
       "      <td>0.003922</td>\n",
       "      <td>0.003922</td>\n",
       "      <td>0.003922</td>\n",
       "      <td>0.003922</td>\n",
       "      <td>0.003922</td>\n",
       "      <td>0.003922</td>\n",
       "      <td>0.003922</td>\n",
       "      <td>0.003922</td>\n",
       "      <td>0.003922</td>\n",
       "      <td>7</td>\n",
       "    </tr>\n",
       "    <tr>\n",
       "      <th>4396</th>\n",
       "      <td>0.003922</td>\n",
       "      <td>0.003922</td>\n",
       "      <td>0.003922</td>\n",
       "      <td>0.003922</td>\n",
       "      <td>0.003922</td>\n",
       "      <td>0.003922</td>\n",
       "      <td>0.003922</td>\n",
       "      <td>0.003922</td>\n",
       "      <td>0.003922</td>\n",
       "      <td>0.003922</td>\n",
       "      <td>...</td>\n",
       "      <td>0.003922</td>\n",
       "      <td>0.003922</td>\n",
       "      <td>0.003922</td>\n",
       "      <td>0.003922</td>\n",
       "      <td>0.003922</td>\n",
       "      <td>0.003922</td>\n",
       "      <td>0.003922</td>\n",
       "      <td>0.003922</td>\n",
       "      <td>0.003922</td>\n",
       "      <td>7</td>\n",
       "    </tr>\n",
       "    <tr>\n",
       "      <th>4397</th>\n",
       "      <td>0.003922</td>\n",
       "      <td>0.003922</td>\n",
       "      <td>0.003922</td>\n",
       "      <td>0.003922</td>\n",
       "      <td>0.003922</td>\n",
       "      <td>0.003922</td>\n",
       "      <td>0.003922</td>\n",
       "      <td>0.003922</td>\n",
       "      <td>0.003922</td>\n",
       "      <td>0.003922</td>\n",
       "      <td>...</td>\n",
       "      <td>0.003922</td>\n",
       "      <td>0.003922</td>\n",
       "      <td>0.003922</td>\n",
       "      <td>0.003922</td>\n",
       "      <td>0.003922</td>\n",
       "      <td>0.003922</td>\n",
       "      <td>0.003922</td>\n",
       "      <td>0.003922</td>\n",
       "      <td>0.003922</td>\n",
       "      <td>7</td>\n",
       "    </tr>\n",
       "    <tr>\n",
       "      <th>4398</th>\n",
       "      <td>0.003922</td>\n",
       "      <td>0.003922</td>\n",
       "      <td>0.003922</td>\n",
       "      <td>0.003922</td>\n",
       "      <td>0.003922</td>\n",
       "      <td>0.003922</td>\n",
       "      <td>0.003922</td>\n",
       "      <td>0.003922</td>\n",
       "      <td>0.003922</td>\n",
       "      <td>0.003922</td>\n",
       "      <td>...</td>\n",
       "      <td>0.901961</td>\n",
       "      <td>0.498039</td>\n",
       "      <td>0.003922</td>\n",
       "      <td>0.003922</td>\n",
       "      <td>0.003922</td>\n",
       "      <td>0.003922</td>\n",
       "      <td>0.003922</td>\n",
       "      <td>0.003922</td>\n",
       "      <td>0.003922</td>\n",
       "      <td>7</td>\n",
       "    </tr>\n",
       "    <tr>\n",
       "      <th>4399</th>\n",
       "      <td>0.003922</td>\n",
       "      <td>0.003922</td>\n",
       "      <td>0.003922</td>\n",
       "      <td>0.003922</td>\n",
       "      <td>0.003922</td>\n",
       "      <td>0.003922</td>\n",
       "      <td>0.003922</td>\n",
       "      <td>0.003922</td>\n",
       "      <td>0.003922</td>\n",
       "      <td>0.003922</td>\n",
       "      <td>...</td>\n",
       "      <td>0.003922</td>\n",
       "      <td>0.003922</td>\n",
       "      <td>0.003922</td>\n",
       "      <td>0.003922</td>\n",
       "      <td>0.003922</td>\n",
       "      <td>0.003922</td>\n",
       "      <td>0.003922</td>\n",
       "      <td>0.003922</td>\n",
       "      <td>0.003922</td>\n",
       "      <td>7</td>\n",
       "    </tr>\n",
       "  </tbody>\n",
       "</table>\n",
       "<p>4400 rows × 785 columns</p>\n",
       "</div>"
      ],
      "text/plain": [
       "             0         1         2         3         4         5         6  \\\n",
       "0     0.003922  0.003922  0.003922  0.003922  0.003922  0.003922  0.003922   \n",
       "1     0.003922  0.003922  0.003922  0.003922  0.003922  0.003922  0.003922   \n",
       "2     0.003922  0.003922  0.003922  0.003922  0.003922  0.003922  0.003922   \n",
       "3     0.003922  0.003922  0.003922  0.003922  0.003922  0.003922  0.003922   \n",
       "4     0.003922  0.003922  0.003922  0.003922  0.003922  0.003922  0.003922   \n",
       "...        ...       ...       ...       ...       ...       ...       ...   \n",
       "4395  0.003922  0.003922  0.003922  0.003922  0.003922  0.003922  0.003922   \n",
       "4396  0.003922  0.003922  0.003922  0.003922  0.003922  0.003922  0.003922   \n",
       "4397  0.003922  0.003922  0.003922  0.003922  0.003922  0.003922  0.003922   \n",
       "4398  0.003922  0.003922  0.003922  0.003922  0.003922  0.003922  0.003922   \n",
       "4399  0.003922  0.003922  0.003922  0.003922  0.003922  0.003922  0.003922   \n",
       "\n",
       "             7         8         9  ...       775       776       777  \\\n",
       "0     0.003922  0.003922  0.003922  ...  0.003922  0.003922  0.003922   \n",
       "1     0.003922  0.003922  0.003922  ...  0.003922  0.003922  0.003922   \n",
       "2     0.003922  0.003922  0.003922  ...  0.003922  0.003922  0.003922   \n",
       "3     0.003922  0.003922  0.003922  ...  0.003922  0.003922  0.003922   \n",
       "4     0.003922  0.003922  0.003922  ...  0.003922  0.003922  0.003922   \n",
       "...        ...       ...       ...  ...       ...       ...       ...   \n",
       "4395  0.003922  0.003922  0.003922  ...  0.003922  0.003922  0.003922   \n",
       "4396  0.003922  0.003922  0.003922  ...  0.003922  0.003922  0.003922   \n",
       "4397  0.003922  0.003922  0.003922  ...  0.003922  0.003922  0.003922   \n",
       "4398  0.003922  0.003922  0.003922  ...  0.901961  0.498039  0.003922   \n",
       "4399  0.003922  0.003922  0.003922  ...  0.003922  0.003922  0.003922   \n",
       "\n",
       "           778       779       780       781       782       783  labels  \n",
       "0     0.003922  0.003922  0.003922  0.003922  0.003922  0.003922       7  \n",
       "1     0.003922  0.003922  0.003922  0.003922  0.003922  0.003922       7  \n",
       "2     0.003922  0.003922  0.003922  0.003922  0.003922  0.003922       7  \n",
       "3     0.003922  0.003922  0.003922  0.003922  0.003922  0.003922       7  \n",
       "4     0.003922  0.003922  0.003922  0.003922  0.003922  0.003922       7  \n",
       "...        ...       ...       ...       ...       ...       ...     ...  \n",
       "4395  0.003922  0.003922  0.003922  0.003922  0.003922  0.003922       7  \n",
       "4396  0.003922  0.003922  0.003922  0.003922  0.003922  0.003922       7  \n",
       "4397  0.003922  0.003922  0.003922  0.003922  0.003922  0.003922       7  \n",
       "4398  0.003922  0.003922  0.003922  0.003922  0.003922  0.003922       7  \n",
       "4399  0.003922  0.003922  0.003922  0.003922  0.003922  0.003922       7  \n",
       "\n",
       "[4400 rows x 785 columns]"
      ]
     },
     "execution_count": 21,
     "metadata": {},
     "output_type": "execute_result"
    }
   ],
   "source": [
    "images7"
   ]
  },
  {
   "cell_type": "code",
   "execution_count": 22,
   "id": "4088ddf8",
   "metadata": {},
   "outputs": [],
   "source": [
    "picture = [images0,images1,images2,images3,images4,images5,images6,images7,images8,images9]"
   ]
  },
  {
   "cell_type": "code",
   "execution_count": 23,
   "id": "6cab7b0e",
   "metadata": {},
   "outputs": [],
   "source": [
    "imagefinal = pd.concat([images0,images1,images2,images3,images4,images5,images6,images7,images8,images9], ignore_index=True)"
   ]
  },
  {
   "cell_type": "markdown",
   "id": "31e76141",
   "metadata": {},
   "source": [
    "# Splitting X_train,X_test,y_train and y_test"
   ]
  },
  {
   "cell_type": "code",
   "execution_count": 24,
   "id": "de9bb7fb",
   "metadata": {},
   "outputs": [],
   "source": [
    "X = imagefinal.drop('labels',axis =1)\n",
    "y = imagefinal['labels']"
   ]
  },
  {
   "cell_type": "code",
   "execution_count": 25,
   "id": "4cdac803",
   "metadata": {},
   "outputs": [
    {
     "data": {
      "text/plain": [
       "array(['0', '1', '2', '3', '4', '5', '6', '7', '8', '9'], dtype=object)"
      ]
     },
     "execution_count": 25,
     "metadata": {},
     "output_type": "execute_result"
    }
   ],
   "source": [
    "y.unique()"
   ]
  },
  {
   "cell_type": "code",
   "execution_count": 26,
   "id": "ee0cff8c",
   "metadata": {},
   "outputs": [],
   "source": [
    "from sklearn.model_selection import train_test_split"
   ]
  },
  {
   "cell_type": "code",
   "execution_count": 27,
   "id": "1b6b677f",
   "metadata": {},
   "outputs": [],
   "source": [
    "X_train, X_test, y_train, y_test = train_test_split(X, y, test_size=0.25, random_state=0)\n"
   ]
  },
  {
   "cell_type": "markdown",
   "id": "0b3cb3d4",
   "metadata": {},
   "source": [
    "# KNN Classifier"
   ]
  },
  {
   "cell_type": "code",
   "execution_count": 28,
   "id": "a80d3c7b",
   "metadata": {},
   "outputs": [
    {
     "data": {
      "text/plain": [
       "KNeighborsClassifier()"
      ]
     },
     "execution_count": 28,
     "metadata": {},
     "output_type": "execute_result"
    }
   ],
   "source": [
    "from sklearn.neighbors import KNeighborsClassifier\n",
    "knn_classifier = KNeighborsClassifier()\n",
    "knn_classifier.fit(X_train,y_train)\n"
   ]
  },
  {
   "cell_type": "code",
   "execution_count": 29,
   "id": "72265638",
   "metadata": {},
   "outputs": [],
   "source": [
    "y_pred = knn_classifier.predict(X_test)"
   ]
  },
  {
   "cell_type": "code",
   "execution_count": 30,
   "id": "19085bfc",
   "metadata": {},
   "outputs": [
    {
     "data": {
      "text/plain": [
       "0.9664698037721471"
      ]
     },
     "execution_count": 30,
     "metadata": {},
     "output_type": "execute_result"
    }
   ],
   "source": [
    "from sklearn import metrics\n",
    "metrics.accuracy_score(y_test, y_pred)"
   ]
  },
  {
   "cell_type": "markdown",
   "id": "650a41a4",
   "metadata": {},
   "source": [
    "# Logistic Reggrestion"
   ]
  },
  {
   "cell_type": "code",
   "execution_count": 31,
   "id": "3a968aa9",
   "metadata": {},
   "outputs": [
    {
     "name": "stderr",
     "output_type": "stream",
     "text": [
      "C:\\ProgramData\\Anaconda3\\lib\\site-packages\\sklearn\\linear_model\\_logistic.py:763: ConvergenceWarning: lbfgs failed to converge (status=1):\n",
      "STOP: TOTAL NO. of ITERATIONS REACHED LIMIT.\n",
      "\n",
      "Increase the number of iterations (max_iter) or scale the data as shown in:\n",
      "    https://scikit-learn.org/stable/modules/preprocessing.html\n",
      "Please also refer to the documentation for alternative solver options:\n",
      "    https://scikit-learn.org/stable/modules/linear_model.html#logistic-regression\n",
      "  n_iter_i = _check_optimize_result(\n"
     ]
    },
    {
     "data": {
      "text/plain": [
       "0.916079253191084"
      ]
     },
     "execution_count": 31,
     "metadata": {},
     "output_type": "execute_result"
    }
   ],
   "source": [
    "from sklearn.linear_model import LogisticRegression\n",
    "lr_classifier = LogisticRegression()\n",
    "lr_classifier.fit(X_train,y_train)\n",
    "\n",
    "y_test_predict = lr_classifier.predict(X_test)\n",
    "\n",
    "from sklearn import metrics\n",
    "metrics.accuracy_score(y_test, y_test_predict)"
   ]
  },
  {
   "cell_type": "markdown",
   "id": "454f8bca",
   "metadata": {},
   "source": [
    "# Naive Bayes Classifier"
   ]
  },
  {
   "cell_type": "code",
   "execution_count": 32,
   "id": "60238a71",
   "metadata": {},
   "outputs": [
    {
     "data": {
      "text/plain": [
       "GaussianNB()"
      ]
     },
     "execution_count": 32,
     "metadata": {},
     "output_type": "execute_result"
    }
   ],
   "source": [
    "from sklearn.naive_bayes import GaussianNB\n",
    "nb_classifier = GaussianNB()\n",
    "nb_classifier.fit(X_train, y_train)"
   ]
  },
  {
   "cell_type": "code",
   "execution_count": 33,
   "id": "5285ce83",
   "metadata": {},
   "outputs": [],
   "source": [
    "y_pred  =  nb_classifier.predict(X_test)"
   ]
  },
  {
   "cell_type": "code",
   "execution_count": 34,
   "id": "ac3848e9",
   "metadata": {},
   "outputs": [
    {
     "data": {
      "text/plain": [
       "0.916079253191084"
      ]
     },
     "execution_count": 34,
     "metadata": {},
     "output_type": "execute_result"
    }
   ],
   "source": [
    "from sklearn import metrics\n",
    "metrics.accuracy_score(y_test, y_test_predict)"
   ]
  },
  {
   "cell_type": "markdown",
   "id": "7f09ccb2",
   "metadata": {},
   "source": [
    "# Training Decision Tree\n"
   ]
  },
  {
   "cell_type": "code",
   "execution_count": 35,
   "id": "4d1bc9ec",
   "metadata": {},
   "outputs": [
    {
     "data": {
      "text/plain": [
       "DecisionTreeClassifier(max_depth=3)"
      ]
     },
     "execution_count": 35,
     "metadata": {},
     "output_type": "execute_result"
    }
   ],
   "source": [
    "from sklearn.tree import DecisionTreeClassifier\n",
    "dt_classifier = DecisionTreeClassifier(max_depth = 3)\n",
    "dt_classifier.fit(X_train, y_train)"
   ]
  },
  {
   "cell_type": "code",
   "execution_count": 36,
   "id": "b91be1cb",
   "metadata": {},
   "outputs": [],
   "source": [
    "y_test_pred = dt_classifier.predict(X_test)"
   ]
  },
  {
   "cell_type": "code",
   "execution_count": 37,
   "id": "5b102c32",
   "metadata": {},
   "outputs": [
    {
     "data": {
      "text/plain": [
       "0.41807963421604116"
      ]
     },
     "execution_count": 37,
     "metadata": {},
     "output_type": "execute_result"
    }
   ],
   "source": [
    "# calculate accuracy of class predictions\n",
    "from sklearn import metrics\n",
    "metrics.accuracy_score(y_test, y_test_pred)"
   ]
  },
  {
   "cell_type": "code",
   "execution_count": null,
   "id": "cdc00d67",
   "metadata": {},
   "outputs": [],
   "source": []
  },
  {
   "cell_type": "markdown",
   "id": "a4b32d7a",
   "metadata": {},
   "source": [
    "# Training Support Vector Classifier"
   ]
  },
  {
   "cell_type": "code",
   "execution_count": 38,
   "id": "49536c8b",
   "metadata": {},
   "outputs": [
    {
     "data": {
      "text/plain": [
       "SVC()"
      ]
     },
     "execution_count": 38,
     "metadata": {},
     "output_type": "execute_result"
    }
   ],
   "source": [
    "from sklearn.svm import SVC\n",
    "sv_classifier = SVC()\n",
    "sv_classifier.fit(X_train, y_train)"
   ]
  },
  {
   "cell_type": "code",
   "execution_count": 39,
   "id": "a3e32911",
   "metadata": {},
   "outputs": [],
   "source": [
    "y_test_pred = sv_classifier.predict(X_test)\n"
   ]
  },
  {
   "cell_type": "code",
   "execution_count": 40,
   "id": "7359fa9b",
   "metadata": {},
   "outputs": [
    {
     "data": {
      "text/plain": [
       "0.9737092779577062"
      ]
     },
     "execution_count": 40,
     "metadata": {},
     "output_type": "execute_result"
    }
   ],
   "source": [
    "# calculate accuracy of class predictions\n",
    "from sklearn import metrics\n",
    "metrics.accuracy_score(y_test, y_test_pred)\n"
   ]
  },
  {
   "cell_type": "code",
   "execution_count": 41,
   "id": "230aeaae",
   "metadata": {},
   "outputs": [
    {
     "data": {
      "text/plain": [
       "(41991, 784)"
      ]
     },
     "execution_count": 41,
     "metadata": {},
     "output_type": "execute_result"
    }
   ],
   "source": [
    "X.shape"
   ]
  },
  {
   "cell_type": "code",
   "execution_count": 42,
   "id": "6f12c0f9",
   "metadata": {},
   "outputs": [],
   "source": [
    "## Random Forest"
   ]
  },
  {
   "cell_type": "code",
   "execution_count": 45,
   "id": "4d068d19",
   "metadata": {},
   "outputs": [
    {
     "name": "stdout",
     "output_type": "stream",
     "text": [
      "1.0\n",
      "0.9601828919794246\n"
     ]
    }
   ],
   "source": [
    "from sklearn.ensemble import RandomForestClassifier\n",
    "rf_classifier = RandomForestClassifier()\n",
    "rf_classifier.fit(X_train, y_train)\n",
    "\n",
    "y_train_pred = rf_classifier.predict(X_train)\n",
    "\n",
    "# For Train Data\n",
    "\n",
    "# calculate accuracy of class predictions\n",
    "from sklearn import metrics\n",
    "met_train = metrics.accuracy_score(y_train, y_train_pred)\n",
    "print(met_train)\n",
    "\n",
    "# For Test Accuracy\n",
    "\n",
    "y_test_pred = rf_classifier.predict(X_test)\n",
    "\n",
    "# calculate accuracy of class predictions\n",
    "from sklearn import metrics\n",
    "met_test = metrics.accuracy_score(y_test, y_test_pred)\n",
    "print(met_test)\n",
    "\n"
   ]
  },
  {
   "cell_type": "code",
   "execution_count": 47,
   "id": "330bedca",
   "metadata": {},
   "outputs": [],
   "source": [
    "from sklearn.model_selection import GridSearchCV, RandomizedSearchCV\n",
    "from sklearn.metrics import classification_report"
   ]
  },
  {
   "cell_type": "code",
   "execution_count": 50,
   "id": "d704c3b3",
   "metadata": {},
   "outputs": [
    {
     "name": "stdout",
     "output_type": "stream",
     "text": [
      "Fitting 5 folds for each of 19 candidates, totalling 95 fits\n"
     ]
    },
    {
     "data": {
      "text/plain": [
       "GridSearchCV(cv=5, estimator=RandomForestClassifier(),\n",
       "             param_grid=[{'max_depth': [1, 2, 3, 4, 5, 6, 7, 8, 9, 10, 11, 12,\n",
       "                                        13, 14, 15, 16, 17, 18, 19]}],\n",
       "             return_train_score=True, scoring='accuracy', verbose=1)"
      ]
     },
     "execution_count": 50,
     "metadata": {},
     "output_type": "execute_result"
    }
   ],
   "source": [
    "tuned_parameters = [{'max_depth':[i for i in range(1,20)]}]\n",
    "\n",
    "rf_classifier = GridSearchCV(\n",
    "    estimator= RandomForestClassifier(), \n",
    "    param_grid=tuned_parameters, \n",
    "    scoring='accuracy',\n",
    "    cv=5,\n",
    "    return_train_score=True,\n",
    "    verbose=1\n",
    ")\n",
    "\n",
    "rf_classifier.fit(X_train, y_train)"
   ]
  },
  {
   "cell_type": "code",
   "execution_count": 52,
   "id": "8c2ca3c4",
   "metadata": {},
   "outputs": [
    {
     "name": "stdout",
     "output_type": "stream",
     "text": [
      "Best parameters set found on train set\n",
      "{'max_depth': 19}\n",
      "RandomForestClassifier(max_depth=19)\n",
      "\n",
      "Score on Test Data:  0.9599923795008573\n"
     ]
    }
   ],
   "source": [
    "print(\"Best parameters set found on train set\")\n",
    "print(rf_classifier.best_params_)\n",
    "print(rf_classifier.best_estimator_)\n",
    "print()\n",
    "\n",
    "print('Score on Test Data: ', rf_classifier.score(X_test, y_test))"
   ]
  },
  {
   "cell_type": "code",
   "execution_count": 53,
   "id": "a2f544df",
   "metadata": {},
   "outputs": [
    {
     "data": {
      "text/html": [
       "<div>\n",
       "<style scoped>\n",
       "    .dataframe tbody tr th:only-of-type {\n",
       "        vertical-align: middle;\n",
       "    }\n",
       "\n",
       "    .dataframe tbody tr th {\n",
       "        vertical-align: top;\n",
       "    }\n",
       "\n",
       "    .dataframe thead th {\n",
       "        text-align: right;\n",
       "    }\n",
       "</style>\n",
       "<table border=\"1\" class=\"dataframe\">\n",
       "  <thead>\n",
       "    <tr style=\"text-align: right;\">\n",
       "      <th></th>\n",
       "      <th>mean_fit_time</th>\n",
       "      <th>std_fit_time</th>\n",
       "      <th>mean_score_time</th>\n",
       "      <th>std_score_time</th>\n",
       "      <th>param_max_depth</th>\n",
       "      <th>params</th>\n",
       "      <th>split0_test_score</th>\n",
       "      <th>split1_test_score</th>\n",
       "      <th>split2_test_score</th>\n",
       "      <th>split3_test_score</th>\n",
       "      <th>...</th>\n",
       "      <th>mean_test_score</th>\n",
       "      <th>std_test_score</th>\n",
       "      <th>rank_test_score</th>\n",
       "      <th>split0_train_score</th>\n",
       "      <th>split1_train_score</th>\n",
       "      <th>split2_train_score</th>\n",
       "      <th>split3_train_score</th>\n",
       "      <th>split4_train_score</th>\n",
       "      <th>mean_train_score</th>\n",
       "      <th>std_train_score</th>\n",
       "    </tr>\n",
       "  </thead>\n",
       "  <tbody>\n",
       "    <tr>\n",
       "      <th>0</th>\n",
       "      <td>1.117641</td>\n",
       "      <td>0.026523</td>\n",
       "      <td>0.059705</td>\n",
       "      <td>0.004395</td>\n",
       "      <td>1</td>\n",
       "      <td>{'max_depth': 1}</td>\n",
       "      <td>0.541197</td>\n",
       "      <td>0.516907</td>\n",
       "      <td>0.535482</td>\n",
       "      <td>0.521753</td>\n",
       "      <td>...</td>\n",
       "      <td>0.527990</td>\n",
       "      <td>0.008985</td>\n",
       "      <td>19</td>\n",
       "      <td>0.549297</td>\n",
       "      <td>0.512344</td>\n",
       "      <td>0.532151</td>\n",
       "      <td>0.527367</td>\n",
       "      <td>0.525779</td>\n",
       "      <td>0.529388</td>\n",
       "      <td>0.011930</td>\n",
       "    </tr>\n",
       "    <tr>\n",
       "      <th>1</th>\n",
       "      <td>1.749284</td>\n",
       "      <td>0.018441</td>\n",
       "      <td>0.066723</td>\n",
       "      <td>0.004872</td>\n",
       "      <td>2</td>\n",
       "      <td>{'max_depth': 2}</td>\n",
       "      <td>0.620575</td>\n",
       "      <td>0.629306</td>\n",
       "      <td>0.660105</td>\n",
       "      <td>0.630835</td>\n",
       "      <td>...</td>\n",
       "      <td>0.634490</td>\n",
       "      <td>0.013403</td>\n",
       "      <td>18</td>\n",
       "      <td>0.625982</td>\n",
       "      <td>0.626975</td>\n",
       "      <td>0.651028</td>\n",
       "      <td>0.640762</td>\n",
       "      <td>0.630760</td>\n",
       "      <td>0.635101</td>\n",
       "      <td>0.009526</td>\n",
       "    </tr>\n",
       "    <tr>\n",
       "      <th>2</th>\n",
       "      <td>2.507626</td>\n",
       "      <td>0.032913</td>\n",
       "      <td>0.077559</td>\n",
       "      <td>0.014954</td>\n",
       "      <td>3</td>\n",
       "      <td>{'max_depth': 3}</td>\n",
       "      <td>0.732180</td>\n",
       "      <td>0.748849</td>\n",
       "      <td>0.760914</td>\n",
       "      <td>0.752779</td>\n",
       "      <td>...</td>\n",
       "      <td>0.746515</td>\n",
       "      <td>0.010320</td>\n",
       "      <td>17</td>\n",
       "      <td>0.736366</td>\n",
       "      <td>0.752957</td>\n",
       "      <td>0.752243</td>\n",
       "      <td>0.750665</td>\n",
       "      <td>0.749553</td>\n",
       "      <td>0.748357</td>\n",
       "      <td>0.006112</td>\n",
       "    </tr>\n",
       "    <tr>\n",
       "      <th>3</th>\n",
       "      <td>3.409805</td>\n",
       "      <td>0.025133</td>\n",
       "      <td>0.082750</td>\n",
       "      <td>0.017756</td>\n",
       "      <td>4</td>\n",
       "      <td>{'max_depth': 4}</td>\n",
       "      <td>0.808065</td>\n",
       "      <td>0.814097</td>\n",
       "      <td>0.818543</td>\n",
       "      <td>0.815179</td>\n",
       "      <td>...</td>\n",
       "      <td>0.813387</td>\n",
       "      <td>0.003580</td>\n",
       "      <td>16</td>\n",
       "      <td>0.811900</td>\n",
       "      <td>0.816425</td>\n",
       "      <td>0.819481</td>\n",
       "      <td>0.813971</td>\n",
       "      <td>0.824171</td>\n",
       "      <td>0.817190</td>\n",
       "      <td>0.004311</td>\n",
       "    </tr>\n",
       "    <tr>\n",
       "      <th>4</th>\n",
       "      <td>4.466791</td>\n",
       "      <td>0.066863</td>\n",
       "      <td>0.085247</td>\n",
       "      <td>0.006220</td>\n",
       "      <td>5</td>\n",
       "      <td>{'max_depth': 5}</td>\n",
       "      <td>0.855691</td>\n",
       "      <td>0.860930</td>\n",
       "      <td>0.860772</td>\n",
       "      <td>0.861067</td>\n",
       "      <td>...</td>\n",
       "      <td>0.857841</td>\n",
       "      <td>0.004086</td>\n",
       "      <td>15</td>\n",
       "      <td>0.859808</td>\n",
       "      <td>0.866119</td>\n",
       "      <td>0.867349</td>\n",
       "      <td>0.863068</td>\n",
       "      <td>0.864894</td>\n",
       "      <td>0.864248</td>\n",
       "      <td>0.002632</td>\n",
       "    </tr>\n",
       "  </tbody>\n",
       "</table>\n",
       "<p>5 rows × 21 columns</p>\n",
       "</div>"
      ],
      "text/plain": [
       "   mean_fit_time  std_fit_time  mean_score_time  std_score_time  \\\n",
       "0       1.117641      0.026523         0.059705        0.004395   \n",
       "1       1.749284      0.018441         0.066723        0.004872   \n",
       "2       2.507626      0.032913         0.077559        0.014954   \n",
       "3       3.409805      0.025133         0.082750        0.017756   \n",
       "4       4.466791      0.066863         0.085247        0.006220   \n",
       "\n",
       "  param_max_depth            params  split0_test_score  split1_test_score  \\\n",
       "0               1  {'max_depth': 1}           0.541197           0.516907   \n",
       "1               2  {'max_depth': 2}           0.620575           0.629306   \n",
       "2               3  {'max_depth': 3}           0.732180           0.748849   \n",
       "3               4  {'max_depth': 4}           0.808065           0.814097   \n",
       "4               5  {'max_depth': 5}           0.855691           0.860930   \n",
       "\n",
       "   split2_test_score  split3_test_score  ...  mean_test_score  std_test_score  \\\n",
       "0           0.535482           0.521753  ...         0.527990        0.008985   \n",
       "1           0.660105           0.630835  ...         0.634490        0.013403   \n",
       "2           0.760914           0.752779  ...         0.746515        0.010320   \n",
       "3           0.818543           0.815179  ...         0.813387        0.003580   \n",
       "4           0.860772           0.861067  ...         0.857841        0.004086   \n",
       "\n",
       "   rank_test_score  split0_train_score  split1_train_score  \\\n",
       "0               19            0.549297            0.512344   \n",
       "1               18            0.625982            0.626975   \n",
       "2               17            0.736366            0.752957   \n",
       "3               16            0.811900            0.816425   \n",
       "4               15            0.859808            0.866119   \n",
       "\n",
       "   split2_train_score  split3_train_score  split4_train_score  \\\n",
       "0            0.532151            0.527367            0.525779   \n",
       "1            0.651028            0.640762            0.630760   \n",
       "2            0.752243            0.750665            0.749553   \n",
       "3            0.819481            0.813971            0.824171   \n",
       "4            0.867349            0.863068            0.864894   \n",
       "\n",
       "   mean_train_score  std_train_score  \n",
       "0          0.529388         0.011930  \n",
       "1          0.635101         0.009526  \n",
       "2          0.748357         0.006112  \n",
       "3          0.817190         0.004311  \n",
       "4          0.864248         0.002632  \n",
       "\n",
       "[5 rows x 21 columns]"
      ]
     },
     "execution_count": 53,
     "metadata": {},
     "output_type": "execute_result"
    }
   ],
   "source": [
    "cv_results = pd.DataFrame(rf_classifier.cv_results_)\n",
    "\n",
    "cv_results.head()"
   ]
  },
  {
   "cell_type": "code",
   "execution_count": 54,
   "id": "0d04d4ef",
   "metadata": {},
   "outputs": [
    {
     "data": {
      "image/png": "[encoded data removed]",
      "text/plain": [
       "<Figure size 432x288 with 1 Axes>"
      ]
     },
     "metadata": {
      "needs_background": "light"
     },
     "output_type": "display_data"
    }
   ],
   "source": [
    "plt.plot(cv_results['param_max_depth'], cv_results['mean_train_score'])\n",
    "plt.plot(cv_results['param_max_depth'], cv_results['mean_test_score'])\n",
    "\n",
    "plt.xlabel('depth')\n",
    "plt.ylabel('Accuracy')\n",
    "plt.legend(['train accuracy', 'test accuracy'], loc='upper right')\n",
    "plt.show()"
   ]
  },
  {
   "cell_type": "code",
   "execution_count": 55,
   "id": "e2bcc17b",
   "metadata": {},
   "outputs": [
    {
     "name": "stdout",
     "output_type": "stream",
     "text": [
      "0.9997459752960975\n",
      "0.9611354543722613\n"
     ]
    }
   ],
   "source": [
    "from sklearn.ensemble import RandomForestClassifier\n",
    "rf_classifier = RandomForestClassifier(max_depth=19)\n",
    "rf_classifier.fit(X_train, y_train)\n",
    "\n",
    "y_train_pred = rf_classifier.predict(X_train)\n",
    "\n",
    "# For Train Data\n",
    "\n",
    "# calculate accuracy of class predictions\n",
    "from sklearn import metrics\n",
    "met_train = metrics.accuracy_score(y_train, y_train_pred)\n",
    "print(met_train)\n",
    "\n",
    "# For Test Accuracy\n",
    "\n",
    "y_test_pred = rf_classifier.predict(X_test)\n",
    "\n",
    "# calculate accuracy of class predictions\n",
    "from sklearn import metrics\n",
    "met_test = metrics.accuracy_score(y_test, y_test_pred)\n",
    "print(met_test)\n",
    "\n"
   ]
  },
  {
   "cell_type": "code",
   "execution_count": 57,
   "id": "9387958b",
   "metadata": {},
   "outputs": [
    {
     "name": "stdout",
     "output_type": "stream",
     "text": [
      "              precision    recall  f1-score   support\n",
      "\n",
      "           0       0.98      0.99      0.98      1046\n",
      "           1       0.98      0.99      0.98      1166\n",
      "           2       0.96      0.96      0.96      1047\n",
      "           3       0.95      0.95      0.95      1065\n",
      "           4       0.97      0.95      0.96       971\n",
      "           5       0.96      0.96      0.96       984\n",
      "           6       0.96      0.98      0.97      1043\n",
      "           7       0.97      0.96      0.97      1088\n",
      "           8       0.95      0.94      0.95      1001\n",
      "           9       0.93      0.94      0.94      1087\n",
      "\n",
      "    accuracy                           0.96     10498\n",
      "   macro avg       0.96      0.96      0.96     10498\n",
      "weighted avg       0.96      0.96      0.96     10498\n",
      "\n"
     ]
    }
   ],
   "source": [
    "from sklearn.metrics import classification_report\n",
    "print(metrics.classification_report(y_test,y_test_pred))"
   ]
  },
  {
   "cell_type": "code",
   "execution_count": 61,
   "id": "7463811c",
   "metadata": {},
   "outputs": [
    {
     "data": {
      "image/png": "[encoded data removed]",
      "text/plain": [
       "<Figure size 720x720 with 2 Axes>"
      ]
     },
     "metadata": {
      "needs_background": "light"
     },
     "output_type": "display_data"
    }
   ],
   "source": [
    "import seaborn as sns\n",
    "confusion_mat = metrics.confusion_matrix(y_test, y_test_pred)\n",
    "\n",
    "# confusion_mat\n",
    "\n",
    "plt.figure(figsize = (10,10))\n",
    "sns.heatmap(confusion_mat, annot=True, fmt='d')\n",
    "plt.title(\"Confusion Matrix of Logistic Regression\")\n",
    "plt.show()\n"
   ]
  },
  {
   "cell_type": "markdown",
   "id": "54ccbb8a",
   "metadata": {},
   "source": [
    "# Saving the Model (Serialization)\n"
   ]
  },
  {
   "cell_type": "code",
   "execution_count": null,
   "id": "3b8a5a3e",
   "metadata": {},
   "outputs": [],
   "source": [
    "# from pickle import dump\n",
    "\n",
    "# dump(knn_classifier, open('models/knn_model.pkl', 'wb'))\n",
    "# dump(lr_classifier, open('models/lr_model.pkl', 'wb'))\n",
    "# dump(nb_classifier, open('models/nb_model.pkl', 'wb'))\n",
    "# dump(dt_classifier, open('models/dt_model.pkl', 'wb'))\n",
    "# dump(sv_classifier, open('models/sv_model.pkl', 'wb'))"
   ]
  },
  {
   "cell_type": "code",
   "execution_count": 64,
   "id": "780e6ae1",
   "metadata": {},
   "outputs": [],
   "source": [
    "from pickle import dump\n",
    "\n",
    "dump(rf_classifier, open('models/rf_model.pkl', 'wb'))\n"
   ]
  },
  {
   "cell_type": "code",
   "execution_count": null,
   "id": "77c1240a",
   "metadata": {},
   "outputs": [],
   "source": []
  },
  {
   "cell_type": "code",
   "execution_count": null,
   "id": "7da7b0f5",
   "metadata": {},
   "outputs": [],
   "source": []
  }
 ],
 "metadata": {
  "kernelspec": {
   "display_name": "Python 3",
   "language": "python",
   "name": "python3"
  },
  "language_info": {
   "codemirror_mode": {
    "name": "ipython",
    "version": 3
   },
   "file_extension": ".py",
   "mimetype": "text/x-python",
   "name": "python",
   "nbconvert_exporter": "python",
   "pygments_lexer": "ipython3",
   "version": "3.8.8"
  }
 },
 "nbformat": 4,
 "nbformat_minor": 5
}
